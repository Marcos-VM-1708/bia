{
  "cells": [
    {
      "cell_type": "markdown",
      "metadata": {
        "id": "view-in-github",
        "colab_type": "text"
      },
      "source": [
        "<a href=\"https://colab.research.google.com/github/Marcos-VM-1708/bia/blob/main/Parkinson_disease_detection.ipynb\" target=\"_parent\"><img src=\"https://colab.research.google.com/assets/colab-badge.svg\" alt=\"Open In Colab\"/></a>"
      ]
    },
    {
      "cell_type": "code",
      "execution_count": null,
      "metadata": {
        "id": "_Ag4Apv4V09d"
      },
      "outputs": [],
      "source": [
        "import os \n",
        "import pandas as pd\n",
        "from imutils.paths import list_images\n",
        "from sklearn.preprocessing import LabelEncoder\n",
        "\n",
        "def open_data(caminho_ht, caminho_pk):\n",
        "  # health\n",
        "  data_ht = str(caminho_ht)                                                                 # caminho das imagens Spiral-Training-Healthy\n",
        "  data_ht = list(list_images(data_ht))                                                      # elementos da pasta  \n",
        "  healthy = list(map(lambda x: os.path.split(os.path.split(x)[0])[1], data_ht))             # diagnostico\n",
        "  \n",
        "  # parkinson\n",
        "  data_pk = str(caminho_pk)                                                                 # caminho das imagens Spiral-Training-Pakinson\n",
        "  data_pk = list(list_images(data_pk))                                                      # elementos da pasta \n",
        "  parkinson = list(map(lambda x: os.path.split(os.path.split(x)[0])[1], data_pk))           # diagnostico\n",
        "\n",
        "  imagens = data_ht + data_pk\n",
        "  diagnostico = healthy + parkinson\n",
        "\n",
        "  series_img = pd.Series(imagens, name=\"imagens\")\n",
        "  series_dgn = pd.Series(diagnostico, name=\"diagnostico\") \n",
        "  \n",
        "  # series parkinson\n",
        "  encode = LabelEncoder()\n",
        "  target = encode.fit_transform(diagnostico)\n",
        "  series_trg = pd.Series(target, name = \"target\")\n",
        "  base_data_v1 = pd.concat([series_img, series_dgn, series_trg], axis = 1)\n",
        "  \n",
        "  return base_data_v1"
      ]
    },
    {
      "cell_type": "code",
      "execution_count": null,
      "metadata": {
        "id": "dUayXXqTamYZ"
      },
      "outputs": [],
      "source": [
        "# gera base de dados pra teste e treino\n",
        "train = open_data(\"/content/drive/Shareddrives/TRABALHO_IP/BD_Oficial4/spiral/training/healthy\",\n",
        "                  \"/content/drive/Shareddrives/TRABALHO_IP/BD_Oficial4/spiral/training/parkinson\")\n",
        "\n",
        "test = open_data(\"/content/drive/Shareddrives/TRABALHO_IP/BD_Oficial4/spiral/testing/healthy\",\n",
        "                 \"/content/drive/Shareddrives/TRABALHO_IP/BD_Oficial4/spiral/testing/parkinson\")\n"
      ]
    },
    {
      "cell_type": "code",
      "source": [
        "test.head(4)"
      ],
      "metadata": {
        "colab": {
          "base_uri": "https://localhost:8080/",
          "height": 175
        },
        "id": "PkQRhfdi3-DB",
        "outputId": "5ce8ea04-1710-4aaf-91e2-4c2e6e1df261"
      },
      "execution_count": null,
      "outputs": [
        {
          "output_type": "execute_result",
          "data": {
            "text/plain": [
              "                                             imagens diagnostico  target\n",
              "0  /content/drive/Shareddrives/TRABALHO_IP/BD_Ofi...     healthy       0\n",
              "1  /content/drive/Shareddrives/TRABALHO_IP/BD_Ofi...     healthy       0\n",
              "2  /content/drive/Shareddrives/TRABALHO_IP/BD_Ofi...     healthy       0\n",
              "3  /content/drive/Shareddrives/TRABALHO_IP/BD_Ofi...     healthy       0"
            ],
            "text/html": [
              "\n",
              "  <div id=\"df-869e9cfd-39fc-49cf-9e65-5ebffefc4d63\">\n",
              "    <div class=\"colab-df-container\">\n",
              "      <div>\n",
              "<style scoped>\n",
              "    .dataframe tbody tr th:only-of-type {\n",
              "        vertical-align: middle;\n",
              "    }\n",
              "\n",
              "    .dataframe tbody tr th {\n",
              "        vertical-align: top;\n",
              "    }\n",
              "\n",
              "    .dataframe thead th {\n",
              "        text-align: right;\n",
              "    }\n",
              "</style>\n",
              "<table border=\"1\" class=\"dataframe\">\n",
              "  <thead>\n",
              "    <tr style=\"text-align: right;\">\n",
              "      <th></th>\n",
              "      <th>imagens</th>\n",
              "      <th>diagnostico</th>\n",
              "      <th>target</th>\n",
              "    </tr>\n",
              "  </thead>\n",
              "  <tbody>\n",
              "    <tr>\n",
              "      <th>0</th>\n",
              "      <td>/content/drive/Shareddrives/TRABALHO_IP/BD_Ofi...</td>\n",
              "      <td>healthy</td>\n",
              "      <td>0</td>\n",
              "    </tr>\n",
              "    <tr>\n",
              "      <th>1</th>\n",
              "      <td>/content/drive/Shareddrives/TRABALHO_IP/BD_Ofi...</td>\n",
              "      <td>healthy</td>\n",
              "      <td>0</td>\n",
              "    </tr>\n",
              "    <tr>\n",
              "      <th>2</th>\n",
              "      <td>/content/drive/Shareddrives/TRABALHO_IP/BD_Ofi...</td>\n",
              "      <td>healthy</td>\n",
              "      <td>0</td>\n",
              "    </tr>\n",
              "    <tr>\n",
              "      <th>3</th>\n",
              "      <td>/content/drive/Shareddrives/TRABALHO_IP/BD_Ofi...</td>\n",
              "      <td>healthy</td>\n",
              "      <td>0</td>\n",
              "    </tr>\n",
              "  </tbody>\n",
              "</table>\n",
              "</div>\n",
              "      <button class=\"colab-df-convert\" onclick=\"convertToInteractive('df-869e9cfd-39fc-49cf-9e65-5ebffefc4d63')\"\n",
              "              title=\"Convert this dataframe to an interactive table.\"\n",
              "              style=\"display:none;\">\n",
              "        \n",
              "  <svg xmlns=\"http://www.w3.org/2000/svg\" height=\"24px\"viewBox=\"0 0 24 24\"\n",
              "       width=\"24px\">\n",
              "    <path d=\"M0 0h24v24H0V0z\" fill=\"none\"/>\n",
              "    <path d=\"M18.56 5.44l.94 2.06.94-2.06 2.06-.94-2.06-.94-.94-2.06-.94 2.06-2.06.94zm-11 1L8.5 8.5l.94-2.06 2.06-.94-2.06-.94L8.5 2.5l-.94 2.06-2.06.94zm10 10l.94 2.06.94-2.06 2.06-.94-2.06-.94-.94-2.06-.94 2.06-2.06.94z\"/><path d=\"M17.41 7.96l-1.37-1.37c-.4-.4-.92-.59-1.43-.59-.52 0-1.04.2-1.43.59L10.3 9.45l-7.72 7.72c-.78.78-.78 2.05 0 2.83L4 21.41c.39.39.9.59 1.41.59.51 0 1.02-.2 1.41-.59l7.78-7.78 2.81-2.81c.8-.78.8-2.07 0-2.86zM5.41 20L4 18.59l7.72-7.72 1.47 1.35L5.41 20z\"/>\n",
              "  </svg>\n",
              "      </button>\n",
              "      \n",
              "  <style>\n",
              "    .colab-df-container {\n",
              "      display:flex;\n",
              "      flex-wrap:wrap;\n",
              "      gap: 12px;\n",
              "    }\n",
              "\n",
              "    .colab-df-convert {\n",
              "      background-color: #E8F0FE;\n",
              "      border: none;\n",
              "      border-radius: 50%;\n",
              "      cursor: pointer;\n",
              "      display: none;\n",
              "      fill: #1967D2;\n",
              "      height: 32px;\n",
              "      padding: 0 0 0 0;\n",
              "      width: 32px;\n",
              "    }\n",
              "\n",
              "    .colab-df-convert:hover {\n",
              "      background-color: #E2EBFA;\n",
              "      box-shadow: 0px 1px 2px rgba(60, 64, 67, 0.3), 0px 1px 3px 1px rgba(60, 64, 67, 0.15);\n",
              "      fill: #174EA6;\n",
              "    }\n",
              "\n",
              "    [theme=dark] .colab-df-convert {\n",
              "      background-color: #3B4455;\n",
              "      fill: #D2E3FC;\n",
              "    }\n",
              "\n",
              "    [theme=dark] .colab-df-convert:hover {\n",
              "      background-color: #434B5C;\n",
              "      box-shadow: 0px 1px 3px 1px rgba(0, 0, 0, 0.15);\n",
              "      filter: drop-shadow(0px 1px 2px rgba(0, 0, 0, 0.3));\n",
              "      fill: #FFFFFF;\n",
              "    }\n",
              "  </style>\n",
              "\n",
              "      <script>\n",
              "        const buttonEl =\n",
              "          document.querySelector('#df-869e9cfd-39fc-49cf-9e65-5ebffefc4d63 button.colab-df-convert');\n",
              "        buttonEl.style.display =\n",
              "          google.colab.kernel.accessAllowed ? 'block' : 'none';\n",
              "\n",
              "        async function convertToInteractive(key) {\n",
              "          const element = document.querySelector('#df-869e9cfd-39fc-49cf-9e65-5ebffefc4d63');\n",
              "          const dataTable =\n",
              "            await google.colab.kernel.invokeFunction('convertToInteractive',\n",
              "                                                     [key], {});\n",
              "          if (!dataTable) return;\n",
              "\n",
              "          const docLinkHtml = 'Like what you see? Visit the ' +\n",
              "            '<a target=\"_blank\" href=https://colab.research.google.com/notebooks/data_table.ipynb>data table notebook</a>'\n",
              "            + ' to learn more about interactive tables.';\n",
              "          element.innerHTML = '';\n",
              "          dataTable['output_type'] = 'display_data';\n",
              "          await google.colab.output.renderOutput(dataTable, element);\n",
              "          const docLink = document.createElement('div');\n",
              "          docLink.innerHTML = docLinkHtml;\n",
              "          element.appendChild(docLink);\n",
              "        }\n",
              "      </script>\n",
              "    </div>\n",
              "  </div>\n",
              "  "
            ]
          },
          "metadata": {},
          "execution_count": 3
        }
      ]
    },
    {
      "cell_type": "code",
      "execution_count": null,
      "metadata": {
        "id": "Oc_DmEJFa7D3"
      },
      "outputs": [],
      "source": [
        "import cv2\n",
        "import numpy as np\n",
        "  \n",
        "# imagens:\n",
        "def process_img(path):\n",
        "  data_img = []\n",
        "  for i in np.array(path[\"imagens\"]):\n",
        "    img = cv2.imread(i,0)              # proceçamento de imagem\n",
        "    img2 = cv2.resize(img, (256, 256)) # resize das imagens \n",
        "    img2 = np.where(img2 > 0.1, 1, 0)\n",
        "    data_img.append(img2)\n",
        "  \n",
        "  temp = pd.Series(data_img, name=\"imagem process\")\n",
        "  data_img = temp.apply(lambda x: np.array(x.data).flatten()).tolist()\n",
        "  data_img = pd.Series(data_img, name=\"imagem_process\")\n",
        "  \n",
        "  base_data_v2 = pd.concat([path, data_img], axis = 1)\n",
        "  return base_data_v2"
      ]
    },
    {
      "cell_type": "code",
      "execution_count": null,
      "metadata": {
        "id": "DLgsQvTLW9Ys"
      },
      "outputs": [],
      "source": [
        "dataBase_test = process_img(test)\n",
        "dataBase_train = process_img(train)"
      ]
    },
    {
      "cell_type": "code",
      "execution_count": null,
      "metadata": {
        "id": "mLY4R2WmYygd"
      },
      "outputs": [],
      "source": [
        "# embaralhamento\n",
        "dataBase_train = dataBase_train.sample(frac=1).reset_index(drop=True)\n",
        "dataBase_test = dataBase_test.sample(frac=1).reset_index(drop=True)"
      ]
    },
    {
      "cell_type": "code",
      "execution_count": null,
      "metadata": {
        "colab": {
          "base_uri": "https://localhost:8080/",
          "height": 378
        },
        "id": "_3FjhENOZ0T-",
        "outputId": "4e926195-58f0-45bf-e30d-28778eedfca1"
      },
      "outputs": [
        {
          "output_type": "execute_result",
          "data": {
            "text/plain": [
              "                                             imagens diagnostico  target  \\\n",
              "0  /content/drive/Shareddrives/TRABALHO_IP/BD_Ofi...     healthy       0   \n",
              "1  /content/drive/Shareddrives/TRABALHO_IP/BD_Ofi...   parkinson       1   \n",
              "2  /content/drive/Shareddrives/TRABALHO_IP/BD_Ofi...     healthy       0   \n",
              "3  /content/drive/Shareddrives/TRABALHO_IP/BD_Ofi...   parkinson       1   \n",
              "\n",
              "                                      imagem_process  \n",
              "0  [0, 0, 0, 0, 0, 0, 0, 0, 0, 0, 0, 0, 0, 0, 0, ...  \n",
              "1  [0, 0, 0, 0, 0, 0, 0, 0, 0, 0, 0, 0, 0, 0, 0, ...  \n",
              "2  [0, 0, 0, 0, 0, 0, 0, 0, 0, 0, 0, 0, 0, 0, 0, ...  \n",
              "3  [0, 0, 0, 0, 0, 0, 0, 0, 0, 0, 0, 0, 0, 0, 0, ...  "
            ],
            "text/html": [
              "\n",
              "  <div id=\"df-2555c470-6b33-413b-9e0f-2d4241f3adb7\">\n",
              "    <div class=\"colab-df-container\">\n",
              "      <div>\n",
              "<style scoped>\n",
              "    .dataframe tbody tr th:only-of-type {\n",
              "        vertical-align: middle;\n",
              "    }\n",
              "\n",
              "    .dataframe tbody tr th {\n",
              "        vertical-align: top;\n",
              "    }\n",
              "\n",
              "    .dataframe thead th {\n",
              "        text-align: right;\n",
              "    }\n",
              "</style>\n",
              "<table border=\"1\" class=\"dataframe\">\n",
              "  <thead>\n",
              "    <tr style=\"text-align: right;\">\n",
              "      <th></th>\n",
              "      <th>imagens</th>\n",
              "      <th>diagnostico</th>\n",
              "      <th>target</th>\n",
              "      <th>imagem_process</th>\n",
              "    </tr>\n",
              "  </thead>\n",
              "  <tbody>\n",
              "    <tr>\n",
              "      <th>0</th>\n",
              "      <td>/content/drive/Shareddrives/TRABALHO_IP/BD_Ofi...</td>\n",
              "      <td>healthy</td>\n",
              "      <td>0</td>\n",
              "      <td>[0, 0, 0, 0, 0, 0, 0, 0, 0, 0, 0, 0, 0, 0, 0, ...</td>\n",
              "    </tr>\n",
              "    <tr>\n",
              "      <th>1</th>\n",
              "      <td>/content/drive/Shareddrives/TRABALHO_IP/BD_Ofi...</td>\n",
              "      <td>parkinson</td>\n",
              "      <td>1</td>\n",
              "      <td>[0, 0, 0, 0, 0, 0, 0, 0, 0, 0, 0, 0, 0, 0, 0, ...</td>\n",
              "    </tr>\n",
              "    <tr>\n",
              "      <th>2</th>\n",
              "      <td>/content/drive/Shareddrives/TRABALHO_IP/BD_Ofi...</td>\n",
              "      <td>healthy</td>\n",
              "      <td>0</td>\n",
              "      <td>[0, 0, 0, 0, 0, 0, 0, 0, 0, 0, 0, 0, 0, 0, 0, ...</td>\n",
              "    </tr>\n",
              "    <tr>\n",
              "      <th>3</th>\n",
              "      <td>/content/drive/Shareddrives/TRABALHO_IP/BD_Ofi...</td>\n",
              "      <td>parkinson</td>\n",
              "      <td>1</td>\n",
              "      <td>[0, 0, 0, 0, 0, 0, 0, 0, 0, 0, 0, 0, 0, 0, 0, ...</td>\n",
              "    </tr>\n",
              "  </tbody>\n",
              "</table>\n",
              "</div>\n",
              "      <button class=\"colab-df-convert\" onclick=\"convertToInteractive('df-2555c470-6b33-413b-9e0f-2d4241f3adb7')\"\n",
              "              title=\"Convert this dataframe to an interactive table.\"\n",
              "              style=\"display:none;\">\n",
              "        \n",
              "  <svg xmlns=\"http://www.w3.org/2000/svg\" height=\"24px\"viewBox=\"0 0 24 24\"\n",
              "       width=\"24px\">\n",
              "    <path d=\"M0 0h24v24H0V0z\" fill=\"none\"/>\n",
              "    <path d=\"M18.56 5.44l.94 2.06.94-2.06 2.06-.94-2.06-.94-.94-2.06-.94 2.06-2.06.94zm-11 1L8.5 8.5l.94-2.06 2.06-.94-2.06-.94L8.5 2.5l-.94 2.06-2.06.94zm10 10l.94 2.06.94-2.06 2.06-.94-2.06-.94-.94-2.06-.94 2.06-2.06.94z\"/><path d=\"M17.41 7.96l-1.37-1.37c-.4-.4-.92-.59-1.43-.59-.52 0-1.04.2-1.43.59L10.3 9.45l-7.72 7.72c-.78.78-.78 2.05 0 2.83L4 21.41c.39.39.9.59 1.41.59.51 0 1.02-.2 1.41-.59l7.78-7.78 2.81-2.81c.8-.78.8-2.07 0-2.86zM5.41 20L4 18.59l7.72-7.72 1.47 1.35L5.41 20z\"/>\n",
              "  </svg>\n",
              "      </button>\n",
              "      \n",
              "  <style>\n",
              "    .colab-df-container {\n",
              "      display:flex;\n",
              "      flex-wrap:wrap;\n",
              "      gap: 12px;\n",
              "    }\n",
              "\n",
              "    .colab-df-convert {\n",
              "      background-color: #E8F0FE;\n",
              "      border: none;\n",
              "      border-radius: 50%;\n",
              "      cursor: pointer;\n",
              "      display: none;\n",
              "      fill: #1967D2;\n",
              "      height: 32px;\n",
              "      padding: 0 0 0 0;\n",
              "      width: 32px;\n",
              "    }\n",
              "\n",
              "    .colab-df-convert:hover {\n",
              "      background-color: #E2EBFA;\n",
              "      box-shadow: 0px 1px 2px rgba(60, 64, 67, 0.3), 0px 1px 3px 1px rgba(60, 64, 67, 0.15);\n",
              "      fill: #174EA6;\n",
              "    }\n",
              "\n",
              "    [theme=dark] .colab-df-convert {\n",
              "      background-color: #3B4455;\n",
              "      fill: #D2E3FC;\n",
              "    }\n",
              "\n",
              "    [theme=dark] .colab-df-convert:hover {\n",
              "      background-color: #434B5C;\n",
              "      box-shadow: 0px 1px 3px 1px rgba(0, 0, 0, 0.15);\n",
              "      filter: drop-shadow(0px 1px 2px rgba(0, 0, 0, 0.3));\n",
              "      fill: #FFFFFF;\n",
              "    }\n",
              "  </style>\n",
              "\n",
              "      <script>\n",
              "        const buttonEl =\n",
              "          document.querySelector('#df-2555c470-6b33-413b-9e0f-2d4241f3adb7 button.colab-df-convert');\n",
              "        buttonEl.style.display =\n",
              "          google.colab.kernel.accessAllowed ? 'block' : 'none';\n",
              "\n",
              "        async function convertToInteractive(key) {\n",
              "          const element = document.querySelector('#df-2555c470-6b33-413b-9e0f-2d4241f3adb7');\n",
              "          const dataTable =\n",
              "            await google.colab.kernel.invokeFunction('convertToInteractive',\n",
              "                                                     [key], {});\n",
              "          if (!dataTable) return;\n",
              "\n",
              "          const docLinkHtml = 'Like what you see? Visit the ' +\n",
              "            '<a target=\"_blank\" href=https://colab.research.google.com/notebooks/data_table.ipynb>data table notebook</a>'\n",
              "            + ' to learn more about interactive tables.';\n",
              "          element.innerHTML = '';\n",
              "          dataTable['output_type'] = 'display_data';\n",
              "          await google.colab.output.renderOutput(dataTable, element);\n",
              "          const docLink = document.createElement('div');\n",
              "          docLink.innerHTML = docLinkHtml;\n",
              "          element.appendChild(docLink);\n",
              "        }\n",
              "      </script>\n",
              "    </div>\n",
              "  </div>\n",
              "  "
            ]
          },
          "metadata": {},
          "execution_count": 7
        }
      ],
      "source": [
        "dataBase_test.head(4)"
      ]
    },
    {
      "cell_type": "code",
      "execution_count": null,
      "metadata": {
        "colab": {
          "base_uri": "https://localhost:8080/"
        },
        "id": "GDCjY71jdAXn",
        "outputId": "c1c7860c-aba2-49cf-a0a1-bc782ae29fbe"
      },
      "outputs": [
        {
          "output_type": "execute_result",
          "data": {
            "text/plain": [
              "target  diagnostico\n",
              "0       healthy        864\n",
              "1       parkinson      864\n",
              "dtype: int64"
            ]
          },
          "metadata": {},
          "execution_count": 8
        }
      ],
      "source": [
        "dataBase_train[['target', 'diagnostico']].value_counts()"
      ]
    },
    {
      "cell_type": "code",
      "execution_count": null,
      "metadata": {
        "id": "yf3zvfile2RC"
      },
      "outputs": [],
      "source": [
        "x_train = np.vstack(dataBase_train['imagem_process'].tolist()) \n",
        "y_train = dataBase_train[\"target\"]"
      ]
    },
    {
      "cell_type": "code",
      "execution_count": null,
      "metadata": {
        "id": "poY-amBCgqZY"
      },
      "outputs": [],
      "source": [
        "x_test = np.vstack(dataBase_test['imagem_process'].tolist()) \n",
        "y_test = dataBase_test[\"target\"]"
      ]
    },
    {
      "cell_type": "code",
      "execution_count": null,
      "metadata": {
        "colab": {
          "base_uri": "https://localhost:8080/"
        },
        "id": "vbbrbGZGfhX0",
        "outputId": "5513e86f-8624-45b3-cebd-7aa04a4bbc8d"
      },
      "outputs": [
        {
          "output_type": "stream",
          "name": "stdout",
          "text": [
            "Forma das variáveis de entrada do conjunto de treinamento: (1728, 65536)\n",
            "Forma das variáveis de resultado do conjunto de treinamento: (1728,)\n"
          ]
        }
      ],
      "source": [
        "print(\"Forma das variáveis de entrada do conjunto de treinamento: {}\".format(x_train.shape))\n",
        "print(\"Forma das variáveis de resultado do conjunto de treinamento: {}\".format(y_train.shape))\n"
      ]
    },
    {
      "cell_type": "code",
      "execution_count": null,
      "metadata": {
        "id": "VO1gt6pefnzR"
      },
      "outputs": [],
      "source": [
        "from sklearn.neural_network import MLPClassifier\n",
        "from sklearn.model_selection import GridSearchCV\n",
        "\n",
        "mlp_model = MLPClassifier(shuffle = True,\n",
        "                          tol = 0.000001)\n",
        "\n",
        "parametros = {\"hidden_layer_sizes\":[(100, 50),\n",
        "                                    (200,100), \n",
        "                                    (100, 25), (200, 150, 50)], \n",
        "              \"activation\": [ \"relu\", \"logistic\"],\n",
        "              \"random_state\": [13, 11, 17, 42]\n",
        "              }\n",
        "# treina os parametros pro mlp_model:\n",
        "\n",
        "# grid = GridSearchCV(estimator= mlp_model, param_grid= parametros)\n",
        "# grid.fit(x_train, y_train)\n",
        "\n",
        "# mp = grid.best_params_\n",
        "# print(mp)\n",
        "# acc = grid.best_score_\n",
        "# print(acc)"
      ]
    },
    {
      "cell_type": "code",
      "execution_count": null,
      "metadata": {
        "id": "xu9kn1OXRtN-"
      },
      "outputs": [],
      "source": [
        "mlp_model = MLPClassifier(activation='relu', # Função de ativação par as 'hidden layers' é ReLU\n",
        "                        \n",
        "                        \n",
        "                        batch_size=200,\n",
        "                        max_iter=1000, # Número máximo de iterações\n",
        "                        shuffle=True, # As amostras são embaralhadas em cada iteração\n",
        "                        random_state=42, # Não mude isso >:(\n",
        "                        verbose=0 # ...\n",
        "                        )\n",
        "                          "
      ]
    },
    {
      "cell_type": "code",
      "execution_count": null,
      "metadata": {
        "colab": {
          "base_uri": "https://localhost:8080/"
        },
        "id": "rHwvosPUSCgf",
        "outputId": "66b88e70-0d76-4c25-a50d-ff4b99fe4804"
      },
      "outputs": [
        {
          "output_type": "execute_result",
          "data": {
            "text/plain": [
              "MLPClassifier(batch_size=200, max_iter=1000, random_state=42, verbose=0)"
            ]
          },
          "metadata": {},
          "execution_count": 14
        }
      ],
      "source": [
        "mlp_model.fit(x_train, y_train)"
      ]
    },
    {
      "cell_type": "code",
      "execution_count": null,
      "metadata": {
        "id": "VVremWMVAlu7"
      },
      "outputs": [],
      "source": [
        "scores = list(map(lambda sc: sc + ('_macro' if sc != 'accuracy' else ''), ['accuracy']))"
      ]
    },
    {
      "cell_type": "code",
      "execution_count": null,
      "metadata": {
        "colab": {
          "base_uri": "https://localhost:8080/",
          "height": 836
        },
        "id": "nEI742ZcgjYs",
        "outputId": "7b2872b3-6a80-412c-ff04-5a31447ce6a7"
      },
      "outputs": [
        {
          "output_type": "stream",
          "name": "stdout",
          "text": [
            "Evaluating Model: MLP\n",
            "\n",
            "1. Accuracy Score (training set) for MLP\n",
            "0.9855324074074074\n",
            "\n",
            "2. Classification Report (training set) for MLP\n",
            "              precision    recall  f1-score   support\n",
            "\n",
            "           0       0.97      1.00      0.99       864\n",
            "           1       1.00      0.97      0.99       864\n",
            "\n",
            "    accuracy                           0.99      1728\n",
            "   macro avg       0.99      0.99      0.99      1728\n",
            "weighted avg       0.99      0.99      0.99      1728\n",
            "\n",
            "\n",
            "3. Accuracy Score (test set) for MLP\n",
            "0.5666666666666667\n",
            "\n",
            "4. Classification Report (test set) for MLP\n",
            "              precision    recall  f1-score   support\n",
            "\n",
            "           0       0.55      0.80      0.65        15\n",
            "           1       0.62      0.33      0.43        15\n",
            "\n",
            "    accuracy                           0.57        30\n",
            "   macro avg       0.59      0.57      0.54        30\n",
            "weighted avg       0.59      0.57      0.54        30\n",
            "\n",
            "\n",
            "5. Confusion Matrix for model: MLP\n"
          ]
        },
        {
          "output_type": "display_data",
          "data": {
            "text/plain": [
              "<Figure size 432x288 with 1 Axes>"
            ],
            "image/png": "[encoded data removed]"
          },
          "metadata": {
            "needs_background": "light"
          }
        }
      ],
      "source": [
        "from sklearn.metrics import classification_report \n",
        "from sklearn.metrics import confusion_matrix\n",
        "from sklearn.metrics import accuracy_score\n",
        "from sklearn.metrics import roc_auc_score\n",
        "from sklearn.metrics import roc_curve\n",
        "import seaborn as sns \n",
        "from matplotlib import pyplot as plt \n",
        "\n",
        "def evaluate_model(name, model):\n",
        "  y_predict_train = mlp_model.predict(x_train)\n",
        "  y_predict_test = mlp_model.predict(x_test)\n",
        "  print(\"Evaluating Model: \" + name)\n",
        "  print(\"\")\n",
        "\n",
        "  print(\"1. Accuracy Score (training set) for \" + name)\n",
        "  print(accuracy_score(y_train, y_predict_train))\n",
        "  print(\"\")\n",
        "  \n",
        "  print(\"2. Classification Report (training set) for \" + name)\n",
        "  print(classification_report(y_train, y_predict_train))\n",
        "  print(\"\")  \n",
        "\n",
        "  print(\"3. Accuracy Score (test set) for \" + name)\n",
        "  print(accuracy_score(y_test, y_predict_test))    \n",
        "  print(\"\")\n",
        "\n",
        "  print(\"4. Classification Report (test set) for \" + name)\n",
        "  print(classification_report(y_test, y_predict_test))\n",
        "  print(\"\")\n",
        "  \n",
        "  print(\"5. Confusion Matrix for model: \" + name)\n",
        "  cmap = sns.cubehelix_palette(light= 0.9, as_cmap=True)\n",
        "  cm = confusion_matrix(y_test, y_predict_test)\n",
        "  sns.heatmap(cm.T, square = True, annot=True, fmt='d', cbar=False,\n",
        "              xticklabels=['Parksion', 'Healthy'],\n",
        "              yticklabels=['Parksion', 'Healthy'], cmap=cmap)\n",
        "  \n",
        "  plt.xlabel('True label', size=12)\n",
        "  plt.ylabel('Predicted label', size=12)\n",
        "  plt.title('Confusion matrix for model: ' + name)\n",
        "\n",
        "evaluate_model('MLP',mlp_model)"
      ]
    },
    {
      "cell_type": "code",
      "execution_count": null,
      "metadata": {
        "colab": {
          "base_uri": "https://localhost:8080/"
        },
        "id": "YtG6IEx8gCEM",
        "outputId": "691bcdf6-e93e-472b-c74c-c5d0e0b3ead4"
      },
      "outputs": [
        {
          "output_type": "stream",
          "name": "stdout",
          "text": [
            "[1 0 0 0 0 1 0 0 1 0 0 0 0 0 1 0 0 1 1 0 0 0 0 1 0 1 0 0 0 0]\n",
            "30\n",
            "[0, 1, 0, 1, 0, 1, 1, 0, 1, 0, 1, 1, 1, 1, 0, 0, 0, 0, 1, 0, 0, 0, 1, 1, 0, 1, 1, 1, 0, 0]\n",
            "30\n"
          ]
        },
        {
          "output_type": "execute_result",
          "data": {
            "text/plain": [
              "0.5666666666666667"
            ]
          },
          "metadata": {},
          "execution_count": 17
        }
      ],
      "source": [
        "predict = mlp_model.predict(x_test)\n",
        "predict_pro = mlp_model.predict_proba(x_test) \n",
        "\n",
        "score_1 = mlp_model.score(x_test, y_test)\n",
        "print(predict)\n",
        "print(len(predict))\n",
        "\n",
        "print(list(y_test), sep = \" \")\n",
        "print(len(list(y_test)))\n",
        "\n",
        "score_1"
      ]
    },
    {
      "cell_type": "code",
      "source": [
        "data = [\"/content/drive/Shareddrives/TRABALHO_IP/TESTE/augmented_Binary_0.png\",\n",
        "        \"/content/drive/Shareddrives/TRABALHO_IP/TESTE/augmented_Binary_1.png\",\n",
        "        \"/content/drive/Shareddrives/TRABALHO_IP/TESTE/augmented_Binary_2.png\",\n",
        "        \"/content/drive/Shareddrives/TRABALHO_IP/TESTE/augmented_Binary_0.png\",\n",
        "        \"/content/drive/Shareddrives/TRABALHO_IP/TESTE/augmented_Binary_1.png\"]"
      ],
      "metadata": {
        "id": "ue-LHGorHUHb"
      },
      "execution_count": null,
      "outputs": []
    },
    {
      "cell_type": "code",
      "execution_count": null,
      "metadata": {
        "colab": {
          "base_uri": "https://localhost:8080/"
        },
        "id": "jIlrhczE799h",
        "outputId": "eaf00066-5fc9-4633-8550-166eff91e36b"
      },
      "outputs": [
        {
          "output_type": "stream",
          "name": "stdout",
          "text": [
            "[0]\n",
            "[1]\n",
            "[1]\n",
            "[0]\n",
            "[1]\n"
          ]
        }
      ],
      "source": [
        "for i in data: \n",
        "  img = cv2.imread(i,0)\n",
        "  img2 = cv2.resize(img, (256, 256)) # resize das imagens \n",
        "  img2 = np.where(img2 > 0.1, 1, 0)\n",
        "  img = img2.flatten()\n",
        "  img = img.reshape(1, -1)\n",
        "  predict = mlp_model.predict(img)\n",
        "  print(predict)\n",
        "  "
      ]
    },
    {
      "cell_type": "code",
      "source": [
        "from google.colab.patches import cv2_imshow\n",
        "data = cv2.imread(\"/content/drive/Shareddrives/TRABALHO_IP/TESTE/augmented_Binary_0.png\")\n",
        "cv2_imshow(data[0])"
      ],
      "metadata": {
        "colab": {
          "base_uri": "https://localhost:8080/",
          "height": 273
        },
        "id": "yU95HMFwhYU4",
        "outputId": "47280d3b-ce86-415e-803b-007115a365c9"
      },
      "execution_count": null,
      "outputs": [
        {
          "output_type": "display_data",
          "data": {
            "text/plain": [
              "<PIL.Image.Image image mode=L size=3x256 at 0x7FAFD1E558D0>"
            ],
            "image/png": "[encoded data removed]"
          },
          "metadata": {}
        }
      ]
    }
  ],
  "metadata": {
    "colab": {
      "provenance": [],
      "collapsed_sections": [],
      "mount_file_id": "1T-YttaSYRqF8NrA4ES4TyjhuHJRduczf",
      "authorship_tag": "ABX9TyMy59Wo4XpnUxUsEhGQdqT2",
      "include_colab_link": true
    },
    "kernelspec": {
      "display_name": "Python 3",
      "name": "python3"
    },
    "language_info": {
      "name": "python"
    }
  },
  "nbformat": 4,
  "nbformat_minor": 0
}